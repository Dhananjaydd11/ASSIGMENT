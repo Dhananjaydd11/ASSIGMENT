{
  "nbformat": 4,
  "nbformat_minor": 0,
  "metadata": {
    "colab": {
      "provenance": [],
      "authorship_tag": "ABX9TyO/woYNanEcy40jdudKeOnT",
      "include_colab_link": true
    },
    "kernelspec": {
      "name": "python3",
      "display_name": "Python 3"
    },
    "language_info": {
      "name": "python"
    }
  },
  "cells": [
    {
      "cell_type": "markdown",
      "metadata": {
        "id": "view-in-github",
        "colab_type": "text"
      },
      "source": [
        "<a href=\"https://colab.research.google.com/github/Dhananjaydd11/ASSIGMENT/blob/main/Untitled6.ipynb\" target=\"_parent\"><img src=\"https://colab.research.google.com/assets/colab-badge.svg\" alt=\"Open In Colab\"/></a>"
      ]
    },
    {
      "cell_type": "code",
      "execution_count": 6,
      "metadata": {
        "colab": {
          "base_uri": "https://localhost:8080/"
        },
        "id": "ZG-5TxRSjhy3",
        "outputId": "bcbf4216-50f8-4a2c-c8fe-46691ec7f8fd"
      },
      "outputs": [
        {
          "output_type": "stream",
          "name": "stdout",
          "text": [
            "0\n",
            "1\n",
            "2\n",
            "3\n",
            "4\n",
            "5\n",
            "6\n",
            "7\n",
            "8\n",
            "9\n",
            "10\n"
          ]
        }
      ],
      "source": [
        "i = 0\n",
        "while i <= 10:\n",
        "  print(i)\n",
        "  i += 1\n"
      ]
    },
    {
      "cell_type": "code",
      "source": [
        "count = 0\n",
        "while count <= 10:\n",
        "  print(count)\n",
        "  count += 1\n",
        "\n",
        "\n"
      ],
      "metadata": {
        "colab": {
          "base_uri": "https://localhost:8080/"
        },
        "id": "THqpey_lqWy9",
        "outputId": "d628178c-042b-4a16-df43-550ce3a81562"
      },
      "execution_count": 7,
      "outputs": [
        {
          "output_type": "stream",
          "name": "stdout",
          "text": [
            "0\n",
            "1\n",
            "2\n",
            "3\n",
            "4\n",
            "5\n",
            "6\n",
            "7\n",
            "8\n",
            "9\n",
            "10\n"
          ]
        }
      ]
    },
    {
      "cell_type": "code",
      "source": [
        "for i in range(1, 101):\n",
        "    if i == 20:\n",
        "        print(\" 50\")\n",
        "    elif i == 50:\n",
        "        print(' 50 ')\n",
        "\n",
        "\n"
      ],
      "metadata": {
        "colab": {
          "base_uri": "https://localhost:8080/"
        },
        "id": "QJoJTtIor6pL",
        "outputId": "cc0f1a6d-55b5-4452-ca07-a63e9a0ec8ae"
      },
      "execution_count": 12,
      "outputs": [
        {
          "output_type": "stream",
          "name": "stdout",
          "text": [
            " 50\n",
            " 50 \n"
          ]
        }
      ]
    },
    {
      "cell_type": "code",
      "source": [
        "nos = int(input(\"Enter how many number yo want to display\"))\n",
        "x = 0\n",
        "y = 1\n",
        "\n",
        "c = 2\n",
        "print(\"fibonacci sequence is\")\n",
        "print(x)\n",
        "print(y)\n",
        "\n",
        "while(c<nos):\n",
        "  z = x + y\n",
        "  print(z)\n",
        "  x = y\n",
        "  y = z\n",
        "\n",
        "  c += 1\n"
      ],
      "metadata": {
        "colab": {
          "base_uri": "https://localhost:8080/"
        },
        "id": "gnlvfiNVx8tI",
        "outputId": "114dd1c9-2145-42de-90fa-b165b7b1dd9e"
      },
      "execution_count": 14,
      "outputs": [
        {
          "output_type": "stream",
          "name": "stdout",
          "text": [
            "Enter how many number yo want to display100\n",
            "fibonacci sequence is\n",
            "0\n",
            "1\n",
            "1\n",
            "2\n",
            "3\n",
            "5\n",
            "8\n",
            "13\n",
            "21\n",
            "34\n",
            "55\n",
            "89\n",
            "144\n",
            "233\n",
            "377\n",
            "610\n",
            "987\n",
            "1597\n",
            "2584\n",
            "4181\n",
            "6765\n",
            "10946\n",
            "17711\n",
            "28657\n",
            "46368\n",
            "75025\n",
            "121393\n",
            "196418\n",
            "317811\n",
            "514229\n",
            "832040\n",
            "1346269\n",
            "2178309\n",
            "3524578\n",
            "5702887\n",
            "9227465\n",
            "14930352\n",
            "24157817\n",
            "39088169\n",
            "63245986\n",
            "102334155\n",
            "165580141\n",
            "267914296\n",
            "433494437\n",
            "701408733\n",
            "1134903170\n",
            "1836311903\n",
            "2971215073\n",
            "4807526976\n",
            "7778742049\n",
            "12586269025\n",
            "20365011074\n",
            "32951280099\n",
            "53316291173\n",
            "86267571272\n",
            "139583862445\n",
            "225851433717\n",
            "365435296162\n",
            "591286729879\n",
            "956722026041\n",
            "1548008755920\n",
            "2504730781961\n",
            "4052739537881\n",
            "6557470319842\n",
            "10610209857723\n",
            "17167680177565\n",
            "27777890035288\n",
            "44945570212853\n",
            "72723460248141\n",
            "117669030460994\n",
            "190392490709135\n",
            "308061521170129\n",
            "498454011879264\n",
            "806515533049393\n",
            "1304969544928657\n",
            "2111485077978050\n",
            "3416454622906707\n",
            "5527939700884757\n",
            "8944394323791464\n",
            "14472334024676221\n",
            "23416728348467685\n",
            "37889062373143906\n",
            "61305790721611591\n",
            "99194853094755497\n",
            "160500643816367088\n",
            "259695496911122585\n",
            "420196140727489673\n",
            "679891637638612258\n",
            "1100087778366101931\n",
            "1779979416004714189\n",
            "2880067194370816120\n",
            "4660046610375530309\n",
            "7540113804746346429\n",
            "12200160415121876738\n",
            "19740274219868223167\n",
            "31940434634990099905\n",
            "51680708854858323072\n",
            "83621143489848422977\n",
            "135301852344706746049\n",
            "218922995834555169026\n"
          ]
        }
      ]
    },
    {
      "cell_type": "code",
      "source": [
        "# Function to find the sum of numbers in a list\n",
        "def find_sum(numbers):\n",
        "    total = sum(numbers)\n",
        "    return total\n",
        "\n",
        "# Example usage\n",
        "numbers_to_sum = [1, 2, 3, 4, 5]\n",
        "result = find_sum(numbers_to_sum)\n",
        "\n",
        "print(f\"The sum of {numbers_to_sum} is: {result}\")\n"
      ],
      "metadata": {
        "colab": {
          "base_uri": "https://localhost:8080/"
        },
        "id": "YcXL-DGOzkUg",
        "outputId": "cdbf2998-6413-47a9-af35-28941a89065c"
      },
      "execution_count": 18,
      "outputs": [
        {
          "output_type": "stream",
          "name": "stdout",
          "text": [
            "The sum of [1, 2, 3, 4, 5] is: 15\n"
          ]
        }
      ]
    },
    {
      "cell_type": "code",
      "source": [
        "from ast import Add\n",
        "add_num = [1, 2, 3, 4, 5]\n",
        "result = sum(add_num)\n",
        "\n",
        "print(f\"sum of add_num {add_num} is: {result}\")\n",
        "\n"
      ],
      "metadata": {
        "colab": {
          "base_uri": "https://localhost:8080/"
        },
        "id": "1wV2xbX90SaC",
        "outputId": "3b482882-06ef-47b5-f61c-d391422563c5"
      },
      "execution_count": 31,
      "outputs": [
        {
          "output_type": "stream",
          "name": "stdout",
          "text": [
            "sum of add_num [1, 2, 3, 4, 5] is: 15\n"
          ]
        }
      ]
    },
    {
      "cell_type": "code",
      "source": [
        "n = int(input(\"enter a number \"))\n",
        "\n",
        "s = 0\n",
        "while(n>0):\n",
        "  rem = n%10    ##use reminder\n",
        "  s = s + rem\n",
        "  n  = int(n/10)\n",
        "\n",
        "print(\"sum of number\",s)\n",
        "\n"
      ],
      "metadata": {
        "colab": {
          "base_uri": "https://localhost:8080/"
        },
        "id": "3Yt2_oLp3Af6",
        "outputId": "5706fec9-9932-4560-c20e-1b8ac98bb745"
      },
      "execution_count": 33,
      "outputs": [
        {
          "output_type": "stream",
          "name": "stdout",
          "text": [
            "enter a number 120\n",
            "sum of number 3\n"
          ]
        }
      ]
    },
    {
      "cell_type": "code",
      "source": [
        "program to find the revers"
      ],
      "metadata": {
        "id": "Wt6Yynoh4KOh"
      },
      "execution_count": null,
      "outputs": []
    },
    {
      "cell_type": "code",
      "source": [
        "n = int(input(\"enter a number \"))\n",
        "\n",
        "s = 0\n",
        "while(n>0):\n",
        "  rem = n%10    ##use reminder\n",
        "  s = s + rem\n",
        "  n  = int(n/10)\n",
        "\n",
        "print(\"sum of number\",s)"
      ],
      "metadata": {
        "colab": {
          "base_uri": "https://localhost:8080/"
        },
        "id": "86ntJoG-2J6c",
        "outputId": "1d9a9b77-ea11-4bef-91e4-f93febd081e0"
      },
      "execution_count": 34,
      "outputs": [
        {
          "output_type": "stream",
          "name": "stdout",
          "text": [
            "enter a number 123\n",
            "sum of number 6\n"
          ]
        }
      ]
    },
    {
      "cell_type": "code",
      "source": [
        "n = int(input(\"enter a number \"))\n",
        "\n",
        "rev= 0\n",
        "while(n>0):\n",
        "  rem = n%10    ##use reminder\n",
        "  rev= rev*10 + rem\n",
        "  n  = int(n/10)\n",
        "\n",
        "print(\"sum of number\",rev)"
      ],
      "metadata": {
        "colab": {
          "base_uri": "https://localhost:8080/"
        },
        "id": "wihNAr9f4yLj",
        "outputId": "3d2bf9cd-6b1d-4f62-dc08-e7e9b4fe503b"
      },
      "execution_count": 35,
      "outputs": [
        {
          "output_type": "stream",
          "name": "stdout",
          "text": [
            "enter a number 123\n",
            "sum of number 321\n"
          ]
        }
      ]
    },
    {
      "cell_type": "code",
      "source": [
        "for i in range(1, 6):\n",
        "    for j in range(1, i + 1):\n",
        "        print(j, end=\"\")\n",
        "    print()\n"
      ],
      "metadata": {
        "colab": {
          "base_uri": "https://localhost:8080/"
        },
        "id": "-R154rNO615H",
        "outputId": "1e118f0f-33ba-4630-e988-34dae09f8d3b"
      },
      "execution_count": 43,
      "outputs": [
        {
          "output_type": "stream",
          "name": "stdout",
          "text": [
            "1\n",
            "12\n",
            "123\n",
            "1234\n",
            "12345\n"
          ]
        }
      ]
    },
    {
      "cell_type": "code",
      "source": [
        "i = 1\n",
        "while i <= 4:\n",
        "    j = 1\n",
        "    while j <= i:\n",
        "        print(j , end ='')\n",
        "        j += 1\n",
        "    print()\n",
        "    i += 1\n"
      ],
      "metadata": {
        "colab": {
          "base_uri": "https://localhost:8080/"
        },
        "id": "9RvVTLpF69TL",
        "outputId": "04a75421-18f6-40ae-c831-b1fecdf56a4b"
      },
      "execution_count": 46,
      "outputs": [
        {
          "output_type": "stream",
          "name": "stdout",
          "text": [
            "1\n",
            "12\n",
            "123\n",
            "1234\n"
          ]
        }
      ]
    }
  ]
}
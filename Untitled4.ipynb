{
  "nbformat": 4,
  "nbformat_minor": 0,
  "metadata": {
    "colab": {
      "provenance": [],
      "authorship_tag": "ABX9TyN+/0VzwdkhKKdixCL5V4Sk",
      "include_colab_link": true
    },
    "kernelspec": {
      "name": "python3",
      "display_name": "Python 3"
    },
    "language_info": {
      "name": "python"
    }
  },
  "cells": [
    {
      "cell_type": "markdown",
      "metadata": {
        "id": "view-in-github",
        "colab_type": "text"
      },
      "source": [
        "<a href=\"https://colab.research.google.com/github/Dhananjaydd11/ASSIGMENT/blob/main/Untitled4.ipynb\" target=\"_parent\"><img src=\"https://colab.research.google.com/assets/colab-badge.svg\" alt=\"Open In Colab\"/></a>"
      ]
    },
    {
      "cell_type": "code",
      "execution_count": null,
      "metadata": {
        "id": "TWcb6sUrV_JB"
      },
      "outputs": [],
      "source": [
        "#Q1\n",
        "#Create five Numbers  Variables and Assign Some Values in it and display the Output of  that Variables"
      ]
    },
    {
      "cell_type": "code",
      "source": [
        "A = 10\n",
        "B = 20\n",
        "C = 30\n",
        "D = 40\n",
        "E = 50\n",
        "print(A)\n",
        "print(B)\n",
        "print(C)\n",
        "print(D)\n",
        "print(E)\n"
      ],
      "metadata": {
        "colab": {
          "base_uri": "https://localhost:8080/"
        },
        "id": "cRsDqQQYWAx2",
        "outputId": "a5eba460-bf5f-49bb-ac66-d2bb99fa4356"
      },
      "execution_count": null,
      "outputs": [
        {
          "output_type": "stream",
          "name": "stdout",
          "text": [
            "10\n",
            "20\n",
            "30\n",
            "40\n",
            "50\n"
          ]
        }
      ]
    },
    {
      "cell_type": "code",
      "source": [
        "# Q2\n",
        "#Creating five string variables and assigning values\n",
        "string1 = \"Hello\"\n",
        "string2 = \"World\"\n",
        "string3 = \"Python\"\n",
        "string4 = \"Programming\"\n",
        "string5 = \"Language\"\n",
        "\n",
        "# Displaying the output\n",
        "print( string1)\n",
        "print( string2)\n",
        "print( string3)\n",
        "print( string4)\n",
        "print( string5)\n"
      ],
      "metadata": {
        "colab": {
          "base_uri": "https://localhost:8080/"
        },
        "id": "OrvNsOeEWkN-",
        "outputId": "5f3f1494-5a16-4063-c710-db96852854a9"
      },
      "execution_count": null,
      "outputs": [
        {
          "output_type": "stream",
          "name": "stdout",
          "text": [
            "Hello\n",
            "World\n",
            "Python\n",
            "Programming\n",
            "Language\n"
          ]
        }
      ]
    },
    {
      "cell_type": "code",
      "source": [
        "#Q3 # Storing days of the week in one variable\n",
        "days_of_week = [\"Monday\", \"Tuesday\", \"Wednesday\", \"Thursday\", \"Friday\", \"Saturday\", \"Sunday\"]\n",
        "\n",
        "# Displaying the output\n",
        "print( days_of_week)\n"
      ],
      "metadata": {
        "colab": {
          "base_uri": "https://localhost:8080/"
        },
        "id": "fB0TPcqEXDwG",
        "outputId": "0639664c-ad27-4543-8a38-de6e7ff7e7db"
      },
      "execution_count": null,
      "outputs": [
        {
          "output_type": "stream",
          "name": "stdout",
          "text": [
            "['Monday', 'Tuesday', 'Wednesday', 'Thursday', 'Friday', 'Saturday', 'Sunday']\n"
          ]
        }
      ]
    },
    {
      "cell_type": "code",
      "source": [
        "\n",
        "#Question-4\n",
        "# Store at least 10  Floating point Number in one Variable\n",
        "floating_numbers = [3.14, 2.718, 1.618, 0.5, 123.456, 7.89, 9.876, 4.567, 0.001, 8.0]\n",
        "print(floating_numbers)"
      ],
      "metadata": {
        "colab": {
          "base_uri": "https://localhost:8080/"
        },
        "id": "PWm9XP_mXsew",
        "outputId": "08a66f52-b890-4d49-bbbd-9423a88c2d41"
      },
      "execution_count": null,
      "outputs": [
        {
          "output_type": "stream",
          "name": "stdout",
          "text": [
            "[3.14, 2.718, 1.618, 0.5, 123.456, 7.89, 9.876, 4.567, 0.001, 8.0]\n"
          ]
        }
      ]
    },
    {
      "cell_type": "code",
      "source": [
        "#Question-6\n",
        "# Create Five SET Variables and Assigns Some Values in it and display the Output of that Variables\n",
        "set1 = {1, 2, 3, 4, 5}\n",
        "set2 = {3, 4, 5, 6, 7}\n",
        "set3 = {5, 6, 7, 8, 9}\n",
        "set4 = {7, 8, 9, 10, 11}\n",
        "set5 = {9, 10, 11, 12, 13}\n",
        "print(set1)\n",
        "print(set2)\n",
        "print(set3)\n",
        "print(set4)\n",
        "print(set5)"
      ],
      "metadata": {
        "colab": {
          "base_uri": "https://localhost:8080/"
        },
        "id": "_yTelRVSZ3TQ",
        "outputId": "d9e3b534-04cd-496a-f8f1-38a84e09cdc8"
      },
      "execution_count": 10,
      "outputs": [
        {
          "output_type": "stream",
          "name": "stdout",
          "text": [
            "{1, 2, 3, 4, 5}\n",
            "{3, 4, 5, 6, 7}\n",
            "{5, 6, 7, 8, 9}\n",
            "{7, 8, 9, 10, 11}\n",
            "{9, 10, 11, 12, 13}\n"
          ]
        }
      ]
    },
    {
      "cell_type": "code",
      "source": [
        "#Question-7\n",
        "# Create Five Tuples Variables and Assigns Some Values in it and display the Output of that Variables\n",
        "tuple1 = (1, 2, 3, 4, 5)\n",
        "tuple2 = ('a', 'b', 'c', 'd', 'e')\n",
        "tuple3 = (3.14, 2.718, 1.618, 0.5, 123.456)\n",
        "tuple4 = ('apple', 'orange', 'banana', 'grape', 'kiwi')\n",
        "tuple5 = (True, False, True, False, True)\n",
        "print(tuple1)\n",
        "print(tuple2)\n",
        "print(tuple3)\n",
        "print(tuple4)\n",
        "print(tuple5)\n",
        "print(type(tuple1))\n",
        "print(type(tuple2))\n",
        "print(type(tuple3))\n",
        "print(type(tuple4))\n",
        "print(type(tuple5))"
      ],
      "metadata": {
        "colab": {
          "base_uri": "https://localhost:8080/"
        },
        "id": "JXSnLaDkbbqo",
        "outputId": "50d42680-27ad-4092-d223-777d5071eece"
      },
      "execution_count": 13,
      "outputs": [
        {
          "output_type": "stream",
          "name": "stdout",
          "text": [
            "(1, 2, 3, 4, 5)\n",
            "('a', 'b', 'c', 'd', 'e')\n",
            "(3.14, 2.718, 1.618, 0.5, 123.456)\n",
            "('apple', 'orange', 'banana', 'grape', 'kiwi')\n",
            "(True, False, True, False, True)\n",
            "<class 'tuple'>\n",
            "<class 'tuple'>\n",
            "<class 'tuple'>\n",
            "<class 'tuple'>\n",
            "<class 'tuple'>\n"
          ]
        }
      ]
    },
    {
      "cell_type": "code",
      "source": [
        "##Question-8\n",
        "a = 72e3\n",
        "print(type(a))\n",
        "# What is the meaning of a ?\n",
        "#The value of `a` is 72000, representing 72 multiplied by 10 to the power of 3"
      ],
      "metadata": {
        "colab": {
          "base_uri": "https://localhost:8080/"
        },
        "id": "cOnehP8ecXXe",
        "outputId": "dc8a8186-4e2f-43e0-dd4e-39a2e1b40860"
      },
      "execution_count": 17,
      "outputs": [
        {
          "output_type": "stream",
          "name": "stdout",
          "text": [
            "<class 'float'>\n"
          ]
        }
      ]
    },
    {
      "cell_type": "code",
      "source": [
        "#Question-9\n",
        "b = 72e-5\n",
        "print(type(b))\n",
        "\n",
        "# What is the meaning of a ?\n",
        "#The value of b is 0.00072, representing 72 multiplied by 10 to the power of -5"
      ],
      "metadata": {
        "colab": {
          "base_uri": "https://localhost:8080/"
        },
        "id": "slWU4F45dgL0",
        "outputId": "2ff877f1-7c32-4cb8-fa59-24f28f20b8b2"
      },
      "execution_count": 18,
      "outputs": [
        {
          "output_type": "stream",
          "name": "stdout",
          "text": [
            "<class 'float'>\n"
          ]
        }
      ]
    },
    {
      "cell_type": "code",
      "source": [
        "#Question-10\n",
        "\n",
        "# Create Five different data types of variables and Show the type of the variable:-\n",
        "var1 = 42                # Integer\n",
        "var2 = 3.14              # Float\n",
        "var3 = \"Hello, World!\"   # String\n",
        "var4 = True               # Boolean\n",
        "var5 = [1, 2, 3]          # List\n",
        "print(type(var1))\n",
        "print(type(var2))\n",
        "print(type(var3))\n",
        "print(type(var4))\n",
        "print(type(var5))"
      ],
      "metadata": {
        "colab": {
          "base_uri": "https://localhost:8080/"
        },
        "id": "eFYPlfwid6Vs",
        "outputId": "54f26e15-ed3e-4df5-c415-a34ee63c32cf"
      },
      "execution_count": 19,
      "outputs": [
        {
          "output_type": "stream",
          "name": "stdout",
          "text": [
            "<class 'int'>\n",
            "<class 'float'>\n",
            "<class 'str'>\n",
            "<class 'bool'>\n",
            "<class 'list'>\n"
          ]
        }
      ]
    }
  ]
}
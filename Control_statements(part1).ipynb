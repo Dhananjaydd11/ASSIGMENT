{
  "nbformat": 4,
  "nbformat_minor": 0,
  "metadata": {
    "colab": {
      "provenance": [],
      "authorship_tag": "ABX9TyOG73uWGhMpmXWlGuanpmZU",
      "include_colab_link": true
    },
    "kernelspec": {
      "name": "python3",
      "display_name": "Python 3"
    },
    "language_info": {
      "name": "python"
    }
  },
  "cells": [
    {
      "cell_type": "markdown",
      "metadata": {
        "id": "view-in-github",
        "colab_type": "text"
      },
      "source": [
        "<a href=\"https://colab.research.google.com/github/Dhananjaydd11/ASSIGMENT/blob/main/Control_statements(part1).ipynb\" target=\"_parent\"><img src=\"https://colab.research.google.com/assets/colab-badge.svg\" alt=\"Open In Colab\"/></a>"
      ]
    },
    {
      "cell_type": "code",
      "execution_count": 2,
      "metadata": {
        "colab": {
          "base_uri": "https://localhost:8080/"
        },
        "id": "x6XQyOHYd59X",
        "outputId": "a7244c7f-0ab8-4480-b242-a80512624d10"
      },
      "outputs": [
        {
          "output_type": "stream",
          "name": "stdout",
          "text": [
            "enter a number to check whether it is even or odd5\n",
            "5 is odd number\n"
          ]
        }
      ],
      "source": [
        "number = int(input(\"enter a number to check whether it is even or odd\"))\n",
        "if(number%2)==0:\n",
        "  print(number , \"is even number\")\n",
        "else:\n",
        "  print(number, \"is odd number\")"
      ]
    },
    {
      "cell_type": "code",
      "source": [
        "year = int(input(\"entrer a leaap year\"))\n",
        "if (year%4 == 0 and year%400 ==0):\n",
        "  print(year, \"is a leap year\")\n",
        "else:\n",
        "  print(year,\"is not a leap year or century\")"
      ],
      "metadata": {
        "colab": {
          "base_uri": "https://localhost:8080/"
        },
        "id": "rWKl51W0kx0B",
        "outputId": "c76319fc-d3e9-4ff3-d5c8-7ef0d7c87180"
      },
      "execution_count": 5,
      "outputs": [
        {
          "output_type": "stream",
          "name": "stdout",
          "text": [
            "entrer a leaap year10000\n",
            "10000 is a leap year\n"
          ]
        }
      ]
    },
    {
      "cell_type": "code",
      "source": [
        "year = int(input(\"entrer a leaap year\"))\n",
        "if (year%4 == 0 ):\n",
        "  print(year, \"is a leap year\")\n",
        "  elif(year%400 ==0):\n",
        "    print(year,\"is leap century\")\n",
        "else:\n",
        "  print(year,\"is not a leap year or century\")\n",
        "\n",
        ""
      ],
      "metadata": {
        "id": "D9O66Ie1nePG"
      },
      "execution_count": null,
      "outputs": []
    },
    {
      "cell_type": "code",
      "source": [
        "num1 = int(input(\"Enter the first number: \"))\n",
        "num2 = int(input(\"Enter the second number: \"))\n",
        "num3 = int(input(\"Enter the third number: \"))\n",
        "if num1 >= num2 and num1 >= num3:\n",
        "    largest = num1\n",
        "elif num2 >= num1 and num2 >= num3:\n",
        "    largest = num2\n",
        "else:\n",
        "    largest = num3\n",
        "print(\"The largest number among\", num1, \",\", num2, \", and\", num3, \"is\", largest)\n"
      ],
      "metadata": {
        "colab": {
          "base_uri": "https://localhost:8080/"
        },
        "id": "-BylCWIOsVZs",
        "outputId": "d129c15e-c212-4699-9ccc-dd0d40cdd883"
      },
      "execution_count": null,
      "outputs": [
        {
          "name": "stdout",
          "output_type": "stream",
          "text": [
            "Enter the first number: 10\n",
            "Enter the second number: 20\n"
          ]
        }
      ]
    }
  ]
}
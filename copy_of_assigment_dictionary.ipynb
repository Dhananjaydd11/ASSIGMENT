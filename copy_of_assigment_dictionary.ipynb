{
  "nbformat": 4,
  "nbformat_minor": 0,
  "metadata": {
    "colab": {
      "provenance": [],
      "authorship_tag": "ABX9TyN3mGaGF7xmwwkNeiJ4qmkV",
      "include_colab_link": true
    },
    "kernelspec": {
      "name": "python3",
      "display_name": "Python 3"
    },
    "language_info": {
      "name": "python"
    }
  },
  "cells": [
    {
      "cell_type": "markdown",
      "metadata": {
        "id": "view-in-github",
        "colab_type": "text"
      },
      "source": [
        "<a href=\"https://colab.research.google.com/github/Dhananjaydd11/ASSIGMENT/blob/main/copy_of_assigment_dictionary.ipynb\" target=\"_parent\"><img src=\"https://colab.research.google.com/assets/colab-badge.svg\" alt=\"Open In Colab\"/></a>"
      ]
    },
    {
      "cell_type": "code",
      "execution_count": null,
      "metadata": {
        "colab": {
          "base_uri": "https://localhost:8080/"
        },
        "id": "G3Gv0jO71Mio",
        "outputId": "d8982991-cf8b-41a5-98f7-48ff9fe4bdc9"
      },
      "outputs": [
        {
          "output_type": "stream",
          "name": "stdout",
          "text": [
            "dict_items([('a', 1), ('b', 2), ('c', 3)])\n"
          ]
        }
      ],
      "source": [
        "#items() - returns a view of all key-value pairs in the dictionary.\n",
        "my_dict = {'a': 1, 'b': 2, 'c': 3}\n",
        "print(my_dict.items())\n",
        "\n"
      ]
    },
    {
      "cell_type": "code",
      "source": [
        "#get() - returns the value for the specified key. If the key is not found, it returns a default value (default is None).\n",
        "my_dict = {'a': 1, 'b': 2, 'c': 3}\n",
        "print(my_dict.get('b'))\n",
        "\n"
      ],
      "metadata": {
        "colab": {
          "base_uri": "https://localhost:8080/"
        },
        "id": "q0eLpKi61iVN",
        "outputId": "6ba2cd3a-0fb9-45f3-89b5-80aad565147d"
      },
      "execution_count": null,
      "outputs": [
        {
          "output_type": "stream",
          "name": "stdout",
          "text": [
            "2\n"
          ]
        }
      ]
    },
    {
      "cell_type": "code",
      "source": [
        "#fromkeys() - creates a new dictionary with keys from a sequence and values set to a default value\n",
        "keys = ['a', 'b', 'c']\n",
        "default_value = 0\n",
        "new_dict = dict.fromkeys(keys, default_value)\n",
        "print(new_dict)\n",
        "\n"
      ],
      "metadata": {
        "colab": {
          "base_uri": "https://localhost:8080/"
        },
        "id": "T7eEHaft11ay",
        "outputId": "462b3e0c-aa24-458a-c65e-c2002366ee39"
      },
      "execution_count": null,
      "outputs": [
        {
          "output_type": "stream",
          "name": "stdout",
          "text": [
            "{'a': 0, 'b': 0, 'c': 0}\n"
          ]
        }
      ]
    },
    {
      "cell_type": "code",
      "source": [
        "#setdefault() - returns the value of the specified key. If the key does not exist, it inserts the key with a specified value (default is None).\n",
        "my_dict = {'a': 1, 'b': 2}\n",
        "value = my_dict.setdefault('c', 3)\n",
        "print(value)\n",
        "print(my_dict)\n"
      ],
      "metadata": {
        "colab": {
          "base_uri": "https://localhost:8080/"
        },
        "id": "4QkkwYYx2W7B",
        "outputId": "a8ad4695-ef72-4a96-ea7b-bc653f2ef8cf"
      },
      "execution_count": null,
      "outputs": [
        {
          "output_type": "stream",
          "name": "stdout",
          "text": [
            "3\n",
            "{'a': 1, 'b': 2, 'c': 3}\n"
          ]
        }
      ]
    },
    {
      "cell_type": "code",
      "source": [
        "#enumerate() - returns an enumerate object containing (index, value) pairs from the dictionary.\n",
        "my_dict = {'a': 1, 'b': 2, 'c': 3}\n",
        "for index, (key, value) in enumerate(my_dict.items()):\n",
        "    print(f\"Index: {index}, Key: {key}, Value: {value}\")\n",
        "\n"
      ],
      "metadata": {
        "colab": {
          "base_uri": "https://localhost:8080/"
        },
        "id": "5QAbkxPk2ogy",
        "outputId": "24182521-02c0-4a38-b593-d65b60817940"
      },
      "execution_count": null,
      "outputs": [
        {
          "output_type": "stream",
          "name": "stdout",
          "text": [
            "Index: 0, Key: a, Value: 1\n",
            "Index: 1, Key: b, Value: 2\n",
            "Index: 2, Key: c, Value: 3\n"
          ]
        }
      ]
    }
  ]
}
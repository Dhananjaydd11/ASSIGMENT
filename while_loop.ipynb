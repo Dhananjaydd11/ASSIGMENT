{
  "nbformat": 4,
  "nbformat_minor": 0,
  "metadata": {
    "colab": {
      "provenance": [],
      "authorship_tag": "ABX9TyMtSB/B5yDZpP1ovRYpaQSN",
      "include_colab_link": true
    },
    "kernelspec": {
      "name": "python3",
      "display_name": "Python 3"
    },
    "language_info": {
      "name": "python"
    }
  },
  "cells": [
    {
      "cell_type": "markdown",
      "metadata": {
        "id": "view-in-github",
        "colab_type": "text"
      },
      "source": [
        "<a href=\"https://colab.research.google.com/github/Dhananjaydd11/ASSIGMENT/blob/main/while_loop.ipynb\" target=\"_parent\"><img src=\"https://colab.research.google.com/assets/colab-badge.svg\" alt=\"Open In Colab\"/></a>"
      ]
    },
    {
      "cell_type": "code",
      "execution_count": 5,
      "metadata": {
        "colab": {
          "base_uri": "https://localhost:8080/"
        },
        "id": "eeoM7So62UPc",
        "outputId": "11e0fa8f-e989-4389-9cac-6199c262d817"
      },
      "outputs": [
        {
          "output_type": "stream",
          "name": "stdout",
          "text": [
            "count= 0\n",
            "count= 1\n",
            "count= 2\n",
            "count= 3\n",
            "count= 4\n",
            "count= 5\n",
            "count= 6\n",
            "count= 7\n",
            "count= 8\n",
            "count= 9\n",
            "count= 10\n"
          ]
        }
      ],
      "source": [
        "count = 0\n",
        "\n",
        "while count <=10:\n",
        "  print(\"count=\", count)\n",
        "  count = count+1    # count +-1\n",
        "\n",
        "\n"
      ]
    },
    {
      "cell_type": "code",
      "source": [
        "nos = 0\n",
        "while nos<=100:\n",
        "  if(nos==20 or nos==50):\n",
        "    print(\"nos is 20 and nos is 50\")\n",
        "  elif(nos==50):\n",
        "    print(\"Nos is 50\")\n",
        "  nos +=1"
      ],
      "metadata": {
        "colab": {
          "base_uri": "https://localhost:8080/"
        },
        "id": "K2t9TPFH4emS",
        "outputId": "c2b18037-e88d-4308-90bd-b459d0200cf0"
      },
      "execution_count": 3,
      "outputs": [
        {
          "output_type": "stream",
          "name": "stdout",
          "text": [
            "nos is 20 and nos is 50\n",
            "nos is 20 and nos is 50\n"
          ]
        }
      ]
    },
    {
      "cell_type": "code",
      "source": [
        "n = 5\n",
        "while n<=100:\n",
        "  if(n==10 or n==20):\n",
        "    print(\"n is 10 and n is 20\")\n",
        "  elif(n==2):\n",
        "    print(\"n is 20\")\n",
        "  n +=1\n"
      ],
      "metadata": {
        "colab": {
          "base_uri": "https://localhost:8080/"
        },
        "id": "VfEWIIJh7HNB",
        "outputId": "181b26e1-dff0-4a28-ed16-b4411c5dab4d"
      },
      "execution_count": 4,
      "outputs": [
        {
          "output_type": "stream",
          "name": "stdout",
          "text": [
            "n is 10 and n is 20\n",
            "n is 10 and n is 20\n"
          ]
        }
      ]
    },
    {
      "cell_type": "code",
      "source": [
        "nos = 0\n",
        "while nos<=100:\n",
        "  if(nos==20 or nos==50):\n",
        "    print(\"nos is 20 and nos is 50\")\n",
        "  elif(nos==50):\n",
        "    print(\"Nos is 50\")\n",
        "  nos +=1"
      ],
      "metadata": {
        "colab": {
          "base_uri": "https://localhost:8080/"
        },
        "id": "Sjw0AJgC6d0z",
        "outputId": "e373a030-3ad0-4838-ec5a-45b346cd21f8"
      },
      "execution_count": 1,
      "outputs": [
        {
          "output_type": "stream",
          "name": "stdout",
          "text": [
            "nos is 20 and nos is 50\n",
            "nos is 20 and nos is 50\n"
          ]
        }
      ]
    },
    {
      "cell_type": "code",
      "source": [
        "#Fibonacci sequence\n",
        "#0 1 1 2 3 5 8 13 21\n",
        "nos = int(input(\"Enter how many number you wanyt to display\"))\n",
        "\n",
        "x = 0\n",
        "y = 1\n",
        "\n",
        "c = 2\n",
        "print(\"fibonacci sequence is \")\n",
        "print(x)\n",
        "print(y)\n",
        "\n",
        "while(c<nos):\n",
        "  z = x+y\n",
        "  print(z)\n",
        "  x = y\n",
        "  y = z\n",
        "  c+=1\n",
        "\n",
        "\n",
        "\n",
        "\n",
        "\n"
      ],
      "metadata": {
        "colab": {
          "base_uri": "https://localhost:8080/"
        },
        "id": "QUUBfbvF7uN8",
        "outputId": "94664fb7-98e1-48fc-ddff-10a8a3440886"
      },
      "execution_count": 7,
      "outputs": [
        {
          "output_type": "stream",
          "name": "stdout",
          "text": [
            "Enter how many number you wanyt to display21\n",
            "fibonacci sequence is \n",
            "0\n",
            "1\n",
            "1\n",
            "2\n",
            "3\n",
            "5\n",
            "8\n",
            "13\n",
            "21\n",
            "34\n",
            "55\n",
            "89\n",
            "144\n",
            "233\n",
            "377\n",
            "610\n",
            "987\n",
            "1597\n",
            "2584\n",
            "4181\n",
            "6765\n"
          ]
        }
      ]
    },
    {
      "cell_type": "code",
      "source": [
        "x1 = float(input(\"Enter x-coordinate of the first point: \"))\n",
        "y1 = float(input(\"Enter y-coordinate of the first point: \"))\n",
        "x2 = float(input(\"Enter x-coordinate of the second point: \"))\n",
        "y2 = float(input(\"Enter y-coordinate of the second point: \"))\n",
        "distance = calculate_distance(x1, y1, x2, y2)\n",
        "print(f\"The distance between ({x1}, {y1}) and ({x2}, {y2}) is: {distance}\")"
      ],
      "metadata": {
        "colab": {
          "base_uri": "https://localhost:8080/",
          "height": 293
        },
        "id": "3vLVtfvb-GgA",
        "outputId": "84dbba64-5282-441a-dbd7-e71216cad298"
      },
      "execution_count": 9,
      "outputs": [
        {
          "name": "stdout",
          "output_type": "stream",
          "text": [
            "Enter x-coordinate of the first point: 2\n",
            "Enter y-coordinate of the first point: 5\n",
            "Enter x-coordinate of the second point: 2\n",
            "Enter y-coordinate of the second point: 5\n"
          ]
        },
        {
          "output_type": "error",
          "ename": "NameError",
          "evalue": "ignored",
          "traceback": [
            "\u001b[0;31m---------------------------------------------------------------------------\u001b[0m",
            "\u001b[0;31mNameError\u001b[0m                                 Traceback (most recent call last)",
            "\u001b[0;32m<ipython-input-9-0d6f12cec8fe>\u001b[0m in \u001b[0;36m<cell line: 6>\u001b[0;34m()\u001b[0m\n\u001b[1;32m      4\u001b[0m \u001b[0my2\u001b[0m \u001b[0;34m=\u001b[0m \u001b[0mfloat\u001b[0m\u001b[0;34m(\u001b[0m\u001b[0minput\u001b[0m\u001b[0;34m(\u001b[0m\u001b[0;34m\"Enter y-coordinate of the second point: \"\u001b[0m\u001b[0;34m)\u001b[0m\u001b[0;34m)\u001b[0m\u001b[0;34m\u001b[0m\u001b[0;34m\u001b[0m\u001b[0m\n\u001b[1;32m      5\u001b[0m \u001b[0;34m\u001b[0m\u001b[0m\n\u001b[0;32m----> 6\u001b[0;31m \u001b[0mprint\u001b[0m\u001b[0;34m(\u001b[0m\u001b[0;34mf\"The distance between ({x1}, {y1}) and ({x2}, {y2}) is: {distance}\"\u001b[0m\u001b[0;34m)\u001b[0m\u001b[0;34m\u001b[0m\u001b[0;34m\u001b[0m\u001b[0m\n\u001b[0m",
            "\u001b[0;31mNameError\u001b[0m: name 'distance' is not defined"
          ]
        }
      ]
    },
    {
      "cell_type": "code",
      "source": [
        "n = int(input(\"Enter the number\"))\n",
        "s = 0\n",
        "while(n>0):\n",
        "  rem = n%10\n",
        "  s = s+rem\n",
        "  n = int(n/10)\n",
        "\n",
        "print(\"sum of number\",s)"
      ],
      "metadata": {
        "colab": {
          "base_uri": "https://localhost:8080/"
        },
        "id": "BMu5n4DR_Hrc",
        "outputId": "60e1c149-1fe0-4ab5-9e83-dfac88a05b64"
      },
      "execution_count": 12,
      "outputs": [
        {
          "output_type": "stream",
          "name": "stdout",
          "text": [
            "Enter the number123\n",
            "sum of number 6\n"
          ]
        }
      ]
    },
    {
      "cell_type": "code",
      "source": [
        "#nested loop\n",
        "#1\n",
        "#12\n",
        "#123\n",
        "#1234\n",
        "#12345\n",
        "\n",
        "i = 1\n",
        "while i<20:\n",
        "  j = 2\n",
        "  while j<(i+2):\n",
        "    print(j, end ='')\n",
        "    j = j+2\n",
        "  i = i+2\n",
        "  print()\n"
      ],
      "metadata": {
        "colab": {
          "base_uri": "https://localhost:8080/"
        },
        "id": "0QLc47aBABdl",
        "outputId": "8fe927e6-8e71-4ff9-b393-d38dbb9ade4b"
      },
      "execution_count": 15,
      "outputs": [
        {
          "output_type": "stream",
          "name": "stdout",
          "text": [
            "2\n",
            "24\n",
            "246\n",
            "2468\n",
            "246810\n",
            "24681012\n",
            "2468101214\n",
            "246810121416\n",
            "24681012141618\n",
            "2468101214161820\n"
          ]
        }
      ]
    }
  ]
}